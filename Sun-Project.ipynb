{
 "cells": [
  {
   "cell_type": "markdown",
   "id": "a1f72d3d",
   "metadata": {},
   "source": [
    "Importing Python Libraries"
   ]
  },
  {
   "cell_type": "code",
   "execution_count": 2,
   "id": "31c7fa19",
   "metadata": {},
   "outputs": [],
   "source": [
    "import numpy as np\n",
    "import math\n",
    "import matplotlib.pyplot as plt\n",
    "import pandas as pd\n",
    "import seaborn as sns"
   ]
  },
  {
   "cell_type": "markdown",
   "id": "581c8812",
   "metadata": {},
   "source": [
    "Defining Function\n",
    "Code for Equation of Time\n",
    "Angle that the earth will make with sun for circular orbit, reference angle from jan 2\n",
    "for elliptical orbit"
   ]
  },
  {
   "cell_type": "code",
   "execution_count": 7,
   "id": "e357b7b3",
   "metadata": {},
   "outputs": [],
   "source": [
    "def time(N, lat, alt, long, to, rad = 6371):\n",
    "#Declination\n",
    "    dec=23.45*np.sin((360/365)*(N+284)*np.pi/180)\n",
    "#Euqation of time\n",
    "    e=0.985653*(N-81)\n",
    "    if e >= 90 and e < 270:\n",
    "        e=e-180\n",
    "        b=np.arctan(0.9175*np.tan(e*np.pi/180))*180/np.pi\n",
    "        m=(e-b)*3.98\n",
    "    elif e >= 270:\n",
    "        e=e-360\n",
    "        b=np.arctan(0.9175*np.tan(e*np.pi/180))*180/np.pi\n",
    "        m=(e-b)*3.98\n",
    "    else:\n",
    "        e=e\n",
    "        b=np.arctan(0.9175*np.tan(e*np.pi/180))*180/np.pi\n",
    "        m=(e-b)*3.98\n",
    "##Angle that the earth will make with sun for circular orbit, reference angle from jan 2\n",
    "#for elliptical orbit\n",
    "    x=0.985653*(N-2)\n",
    "    s=np.sin(x*np.pi/180)\n",
    "    v=x+1.915169*s\n",
    "#Summation Effect\n",
    "    d=(x-v)*3.98892\n",
    "    EoT= m+d\n",
    "# Altitude\n",
    "    al = np.arcsin((rad)/(alt+rad))*180/np.pi\n",
    "    beta = 180 - 90 - al\n",
    "\n",
    "#Hour angle\n",
    "    h1 = np.arccos((np.cos((90 + beta)*np.pi/180)-np.sin(lat*np.pi/180)*np.sin(dec*np.pi/180))/(np.cos(lat*np.pi/180)*np.cos(dec*np.pi/180)))\n",
    "    hr1 = h1*180*7/22\n",
    "#Determination of Solar Altitude\n",
    "    sal = (np.arcsin(np.sin(dec*np.pi/180)*np.sin(lat*np.pi/180)+np.cos(dec*np.pi/180)*np.cos(hr1*np.pi/180)*np.cos(lat*np.pi/180)))*180/np.pi\n",
    "#Refraction effect using Bennet formula\n",
    "    R = 1/(np.tan((sal + 7.32/(sal+4.32))*np.pi/180))\n",
    "    r = (R+16)/60\n",
    "#Hour Angle Considering both Effect (Altitude and Refraction)\n",
    "    h = np.arccos((np.cos((90 + r + beta)*np.pi/180)-np.sin(lat*np.pi/180)*np.sin(dec*np.pi/180))/(np.cos(lat*np.pi/180)*np.cos(dec*np.pi/180)))\n",
    "    hr=h*180/np.pi\n",
    "    H=hr/15\n",
    "#Daylight Time\n",
    "    D=2*H\n",
    "#Time Correction, here to is timeoffset\n",
    "    TC=4*(15*to-long)-EoT\n",
    "    #Solar Noon\n",
    "    sn=12+TC/60\n",
    "#Sunrise and Sunset Times\n",
    "    sr=sn-H\n",
    "    ss=sn+H\n",
    "#Sunrise and Sunset times in daylight saving condition\n",
    "    sr=sn-H - 1.0\n",
    "    ss=sn+H - 1.0\n",
    "#Value of hour angle for particular time for Analemma plot\n",
    "    y = 15*(18-sn)\n",
    "#Solar Altitude and Solar Azimuth Angle\n",
    "    al1 = (np.arcsin(np.sin(dec*np.pi/180)*np.sin(lat*np.pi/180)+np.cos(dec*np.pi/180)*np.cos(y*np.pi/180)*np.cos(lat*np.pi/180)))*180/np.pi\n",
    "    az = (np.arccos((np.sin(dec*np.pi/180)*np.cos(lat*np.pi/180)-np.cos(dec*np.pi/180)*np.sin(lat*np.pi/180)*np.cos(y*np.pi/180))/np.cos(al1*np.pi/180)))*180/np.pi\n",
    "#Returning Function\n",
    "    return{'sunrise':sr, 'sunset':ss, 'declination':dec, 'EOT':EoT, 'altitude':al1, 'azimuth':az, 'solarnoon':sn}"
   ]
  },
  {
   "cell_type": "code",
   "execution_count": null,
   "id": "af602548",
   "metadata": {},
   "outputs": [],
   "source": []
  }
 ],
 "metadata": {
  "kernelspec": {
   "display_name": "Python 3",
   "language": "python",
   "name": "python3"
  },
  "language_info": {
   "codemirror_mode": {
    "name": "ipython",
    "version": 3
   },
   "file_extension": ".py",
   "mimetype": "text/x-python",
   "name": "python",
   "nbconvert_exporter": "python",
   "pygments_lexer": "ipython3",
   "version": "3.8.8"
  }
 },
 "nbformat": 4,
 "nbformat_minor": 5
}
